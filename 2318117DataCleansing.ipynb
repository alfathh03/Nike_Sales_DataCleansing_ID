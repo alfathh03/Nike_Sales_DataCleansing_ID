{
  "nbformat": 4,
  "nbformat_minor": 0,
  "metadata": {
    "colab": {
      "provenance": [],
      "collapsed_sections": [
        "kKps6woOJtWx",
        "_f7bjqczJxVm",
        "e5GX7_TaKTQk",
        "xgvKnHyJKm52",
        "xRRGfA0oKyzw",
        "_9i79zY9K_wi",
        "pHviVXieLJm0"
      ],
      "toc_visible": true,
      "authorship_tag": "ABX9TyOxmzZETuXn69s/GXu5OR1v",
      "include_colab_link": true
    },
    "kernelspec": {
      "name": "python3",
      "display_name": "Python 3"
    },
    "language_info": {
      "name": "python"
    }
  },
  "cells": [
    {
      "cell_type": "markdown",
      "metadata": {
        "id": "view-in-github",
        "colab_type": "text"
      },
      "source": [
        "<a href=\"https://colab.research.google.com/github/alfathh03/Nike_Sales_DataCleansing_ID/blob/master/2318117DataCleansing.ipynb\" target=\"_parent\"><img src=\"https://colab.research.google.com/assets/colab-badge.svg\" alt=\"Open In Colab\"/></a>"
      ]
    },
    {
      "cell_type": "markdown",
      "source": [
        "# 1. INSTAL LIBARY"
      ],
      "metadata": {
        "id": "kKps6woOJtWx"
      }
    },
    {
      "cell_type": "markdown",
      "source": [
        "\n",
        "    Mengimpor pustaka Pandas untuk memanipulasi data tabular (DataFrame), NumPy untuk operasi numerik, dan io untuk mengolah data yang diunggah\n",
        "\n",
        "    Metode yang Digunakan: Library Initialization"
      ],
      "metadata": {
        "id": "nxTFcOiN44i1"
      }
    },
    {
      "cell_type": "code",
      "execution_count": 4,
      "metadata": {
        "id": "X1SBjK1m34Fl"
      },
      "outputs": [],
      "source": [
        "import pandas as pd\n",
        "import numpy as np\n",
        "import io"
      ]
    },
    {
      "cell_type": "markdown",
      "source": [
        "# 2. Import File"
      ],
      "metadata": {
        "id": "_f7bjqczJxVm"
      }
    },
    {
      "cell_type": "markdown",
      "source": [
        "\n",
        "    Mengimpor modul 'files' dari google.colab,"
      ],
      "metadata": {
        "id": "e8OBIcK96s0T"
      }
    },
    {
      "cell_type": "code",
      "source": [
        "#Digunakan untuk memungkinkan fitur unggah dan unduh file di lingkungan Google Colab\n",
        "from google.colab import files"
      ],
      "metadata": {
        "id": "XThW25X648tl"
      },
      "execution_count": 2,
      "outputs": []
    },
    {
      "cell_type": "markdown",
      "source": [
        "# 3. Pemuatan Data dan Validasi Berkas"
      ],
      "metadata": {
        "id": "e5GX7_TaKTQk"
      }
    },
    {
      "cell_type": "markdown",
      "source": [
        "\n",
        "    \n",
        "   Tahap ini berfokus pada perolehan data dari sumbernya. Kami memanggil fungsi unggah agar pengguna dapat memasukkan file yang sudah diterjemahkan ke dalam sesi Colab. Setelah file berhasil dimuat, data diurai dan ditempatkan ke dalam struktur DataFrame Pandas, menjadikannya siap untuk proses cleansing lebih lanjut. Proses ini mencerminkan validasi awal bahwa data berhasil dialihkan."
      ],
      "metadata": {
        "id": "N8iGAEH98d6h"
      }
    },
    {
      "cell_type": "code",
      "source": [
        "# Memunculkan tombol untuk memilih dan mengunggah file.\n",
        "uploaded = files.upload()\n",
        "\n",
        "# Mendeteksi nama file yang diunggah.\n",
        "file_name = list(uploaded.keys())[0]\n",
        "\n",
        "# Memuat data dari file CSV ke DataFrame Pandas (df).\n",
        "try:\n",
        "    df = pd.read_csv(io.StringIO(uploaded[file_name].decode('utf-8')))\n",
        "    print(f\"File '{file_name}' berhasil dimuat.\")\n",
        "except Exception as e:\n",
        "    print(f\"Gagal memuat file: {e}\")\n",
        "    exit()"
      ],
      "metadata": {
        "colab": {
          "base_uri": "https://localhost:8080/",
          "height": 233
        },
        "id": "SNDNQAoL_v9h",
        "outputId": "3e8e49ff-5c62-48d1-8ada-9811babe1a33"
      },
      "execution_count": 5,
      "outputs": [
        {
          "output_type": "display_data",
          "data": {
            "text/plain": [
              "<IPython.core.display.HTML object>"
            ],
            "text/html": [
              "\n",
              "     <input type=\"file\" id=\"files-c6927ea8-389d-4491-92b6-bef1db562391\" name=\"files[]\" multiple disabled\n",
              "        style=\"border:none\" />\n",
              "     <output id=\"result-c6927ea8-389d-4491-92b6-bef1db562391\">\n",
              "      Upload widget is only available when the cell has been executed in the\n",
              "      current browser session. Please rerun this cell to enable.\n",
              "      </output>\n",
              "      <script>// Copyright 2017 Google LLC\n",
              "//\n",
              "// Licensed under the Apache License, Version 2.0 (the \"License\");\n",
              "// you may not use this file except in compliance with the License.\n",
              "// You may obtain a copy of the License at\n",
              "//\n",
              "//      http://www.apache.org/licenses/LICENSE-2.0\n",
              "//\n",
              "// Unless required by applicable law or agreed to in writing, software\n",
              "// distributed under the License is distributed on an \"AS IS\" BASIS,\n",
              "// WITHOUT WARRANTIES OR CONDITIONS OF ANY KIND, either express or implied.\n",
              "// See the License for the specific language governing permissions and\n",
              "// limitations under the License.\n",
              "\n",
              "/**\n",
              " * @fileoverview Helpers for google.colab Python module.\n",
              " */\n",
              "(function(scope) {\n",
              "function span(text, styleAttributes = {}) {\n",
              "  const element = document.createElement('span');\n",
              "  element.textContent = text;\n",
              "  for (const key of Object.keys(styleAttributes)) {\n",
              "    element.style[key] = styleAttributes[key];\n",
              "  }\n",
              "  return element;\n",
              "}\n",
              "\n",
              "// Max number of bytes which will be uploaded at a time.\n",
              "const MAX_PAYLOAD_SIZE = 100 * 1024;\n",
              "\n",
              "function _uploadFiles(inputId, outputId) {\n",
              "  const steps = uploadFilesStep(inputId, outputId);\n",
              "  const outputElement = document.getElementById(outputId);\n",
              "  // Cache steps on the outputElement to make it available for the next call\n",
              "  // to uploadFilesContinue from Python.\n",
              "  outputElement.steps = steps;\n",
              "\n",
              "  return _uploadFilesContinue(outputId);\n",
              "}\n",
              "\n",
              "// This is roughly an async generator (not supported in the browser yet),\n",
              "// where there are multiple asynchronous steps and the Python side is going\n",
              "// to poll for completion of each step.\n",
              "// This uses a Promise to block the python side on completion of each step,\n",
              "// then passes the result of the previous step as the input to the next step.\n",
              "function _uploadFilesContinue(outputId) {\n",
              "  const outputElement = document.getElementById(outputId);\n",
              "  const steps = outputElement.steps;\n",
              "\n",
              "  const next = steps.next(outputElement.lastPromiseValue);\n",
              "  return Promise.resolve(next.value.promise).then((value) => {\n",
              "    // Cache the last promise value to make it available to the next\n",
              "    // step of the generator.\n",
              "    outputElement.lastPromiseValue = value;\n",
              "    return next.value.response;\n",
              "  });\n",
              "}\n",
              "\n",
              "/**\n",
              " * Generator function which is called between each async step of the upload\n",
              " * process.\n",
              " * @param {string} inputId Element ID of the input file picker element.\n",
              " * @param {string} outputId Element ID of the output display.\n",
              " * @return {!Iterable<!Object>} Iterable of next steps.\n",
              " */\n",
              "function* uploadFilesStep(inputId, outputId) {\n",
              "  const inputElement = document.getElementById(inputId);\n",
              "  inputElement.disabled = false;\n",
              "\n",
              "  const outputElement = document.getElementById(outputId);\n",
              "  outputElement.innerHTML = '';\n",
              "\n",
              "  const pickedPromise = new Promise((resolve) => {\n",
              "    inputElement.addEventListener('change', (e) => {\n",
              "      resolve(e.target.files);\n",
              "    });\n",
              "  });\n",
              "\n",
              "  const cancel = document.createElement('button');\n",
              "  inputElement.parentElement.appendChild(cancel);\n",
              "  cancel.textContent = 'Cancel upload';\n",
              "  const cancelPromise = new Promise((resolve) => {\n",
              "    cancel.onclick = () => {\n",
              "      resolve(null);\n",
              "    };\n",
              "  });\n",
              "\n",
              "  // Wait for the user to pick the files.\n",
              "  const files = yield {\n",
              "    promise: Promise.race([pickedPromise, cancelPromise]),\n",
              "    response: {\n",
              "      action: 'starting',\n",
              "    }\n",
              "  };\n",
              "\n",
              "  cancel.remove();\n",
              "\n",
              "  // Disable the input element since further picks are not allowed.\n",
              "  inputElement.disabled = true;\n",
              "\n",
              "  if (!files) {\n",
              "    return {\n",
              "      response: {\n",
              "        action: 'complete',\n",
              "      }\n",
              "    };\n",
              "  }\n",
              "\n",
              "  for (const file of files) {\n",
              "    const li = document.createElement('li');\n",
              "    li.append(span(file.name, {fontWeight: 'bold'}));\n",
              "    li.append(span(\n",
              "        `(${file.type || 'n/a'}) - ${file.size} bytes, ` +\n",
              "        `last modified: ${\n",
              "            file.lastModifiedDate ? file.lastModifiedDate.toLocaleDateString() :\n",
              "                                    'n/a'} - `));\n",
              "    const percent = span('0% done');\n",
              "    li.appendChild(percent);\n",
              "\n",
              "    outputElement.appendChild(li);\n",
              "\n",
              "    const fileDataPromise = new Promise((resolve) => {\n",
              "      const reader = new FileReader();\n",
              "      reader.onload = (e) => {\n",
              "        resolve(e.target.result);\n",
              "      };\n",
              "      reader.readAsArrayBuffer(file);\n",
              "    });\n",
              "    // Wait for the data to be ready.\n",
              "    let fileData = yield {\n",
              "      promise: fileDataPromise,\n",
              "      response: {\n",
              "        action: 'continue',\n",
              "      }\n",
              "    };\n",
              "\n",
              "    // Use a chunked sending to avoid message size limits. See b/62115660.\n",
              "    let position = 0;\n",
              "    do {\n",
              "      const length = Math.min(fileData.byteLength - position, MAX_PAYLOAD_SIZE);\n",
              "      const chunk = new Uint8Array(fileData, position, length);\n",
              "      position += length;\n",
              "\n",
              "      const base64 = btoa(String.fromCharCode.apply(null, chunk));\n",
              "      yield {\n",
              "        response: {\n",
              "          action: 'append',\n",
              "          file: file.name,\n",
              "          data: base64,\n",
              "        },\n",
              "      };\n",
              "\n",
              "      let percentDone = fileData.byteLength === 0 ?\n",
              "          100 :\n",
              "          Math.round((position / fileData.byteLength) * 100);\n",
              "      percent.textContent = `${percentDone}% done`;\n",
              "\n",
              "    } while (position < fileData.byteLength);\n",
              "  }\n",
              "\n",
              "  // All done.\n",
              "  yield {\n",
              "    response: {\n",
              "      action: 'complete',\n",
              "    }\n",
              "  };\n",
              "}\n",
              "\n",
              "scope.google = scope.google || {};\n",
              "scope.google.colab = scope.google.colab || {};\n",
              "scope.google.colab._files = {\n",
              "  _uploadFiles,\n",
              "  _uploadFilesContinue,\n",
              "};\n",
              "})(self);\n",
              "</script> "
            ]
          },
          "metadata": {}
        },
        {
          "output_type": "error",
          "ename": "IndexError",
          "evalue": "list index out of range",
          "traceback": [
            "\u001b[0;31m---------------------------------------------------------------------------\u001b[0m",
            "\u001b[0;31mIndexError\u001b[0m                                Traceback (most recent call last)",
            "\u001b[0;32m/tmp/ipython-input-917854008.py\u001b[0m in \u001b[0;36m<cell line: 0>\u001b[0;34m()\u001b[0m\n\u001b[1;32m      3\u001b[0m \u001b[0;34m\u001b[0m\u001b[0m\n\u001b[1;32m      4\u001b[0m \u001b[0;31m# Mendeteksi nama file yang diunggah.\u001b[0m\u001b[0;34m\u001b[0m\u001b[0;34m\u001b[0m\u001b[0m\n\u001b[0;32m----> 5\u001b[0;31m \u001b[0mfile_name\u001b[0m \u001b[0;34m=\u001b[0m \u001b[0mlist\u001b[0m\u001b[0;34m(\u001b[0m\u001b[0muploaded\u001b[0m\u001b[0;34m.\u001b[0m\u001b[0mkeys\u001b[0m\u001b[0;34m(\u001b[0m\u001b[0;34m)\u001b[0m\u001b[0;34m)\u001b[0m\u001b[0;34m[\u001b[0m\u001b[0;36m0\u001b[0m\u001b[0;34m]\u001b[0m\u001b[0;34m\u001b[0m\u001b[0;34m\u001b[0m\u001b[0m\n\u001b[0m\u001b[1;32m      6\u001b[0m \u001b[0;34m\u001b[0m\u001b[0m\n\u001b[1;32m      7\u001b[0m \u001b[0;31m# Memuat data dari file CSV ke DataFrame Pandas (df).\u001b[0m\u001b[0;34m\u001b[0m\u001b[0;34m\u001b[0m\u001b[0m\n",
            "\u001b[0;31mIndexError\u001b[0m: list index out of range"
          ]
        }
      ]
    },
    {
      "cell_type": "markdown",
      "source": [
        "# 4. Penanganan Data yang Hilang (Missing Values) dan Imputasi"
      ],
      "metadata": {
        "id": "xgvKnHyJKm52"
      }
    },
    {
      "cell_type": "markdown",
      "source": [
        "\n",
        "    Bagian ini adalah tahapan inti pembersihan data. Kami menerapkan serangkaian keputusan metodologis untuk mengatasi data yang hilang (NaN)"
      ],
      "metadata": {
        "id": "4cEw3wsB_7ll"
      }
    },
    {
      "cell_type": "code",
      "source": [
        "# Membuat salinan data untuk proses pembersihan.\n",
        "df_clean = df.copy()\n",
        "\n",
        "# A. Hapus Baris Total Kosong:\n",
        "# Menghapus baris yang tidak memiliki ID Pesanan.\n",
        "df_clean.dropna(subset=['ID_Pesanan'], inplace=True)\n",
        "\n",
        "# B. Imputasi Numerik (Mengisi NaN):\n",
        "# Mengisi NaN pada Diskon_Diterapkan dan Unit_Terjual dengan 0.\n",
        "df_clean['Diskon_Diterapkan'] = df_clean['Diskon_Diterapkan'].fillna(0)\n",
        "df_clean['Unit_Terjual'] = df_clean['Unit_Terjual'].fillna(0).astype(int)\n",
        "\n",
        "# Mengisi NaN pada MRP dengan nilai median per Lini Produk.\n",
        "df_clean['Harga_Eceran_Maksimum'] = df_clean.groupby('Lini_Produk')['Harga_Eceran_Maksimum'].transform(lambda x: x.fillna(x.median()))\n",
        "\n",
        "# C. Imputasi Kategorikal:\n",
        "# Mengisi nilai NaN pada kolom Ukuran dengan Modus.\n",
        "df_clean['Ukuran'] = df_clean['Ukuran'].fillna(df_clean['Ukuran'].mode()[0])"
      ],
      "metadata": {
        "id": "jFScyuS5AjQ9"
      },
      "execution_count": null,
      "outputs": []
    },
    {
      "cell_type": "markdown",
      "source": [
        "# 5. Koreksi Tipe Data dan Penanganan Inkonsistensi Logis"
      ],
      "metadata": {
        "id": "xRRGfA0oKyzw"
      }
    },
    {
      "cell_type": "markdown",
      "source": [
        "\n",
        "    Bagian ini berfokus pada validasi dan standardisasi struktural data. Kami mengonversi kolom ID menjadi tipe bilangan bulat (integer) dan memperbaiki format Tanggal_Pesanan menjadi tipe datetime untuk memungkinkan analisis temporal. Lebih lanjut, kami menghapus anomali fatal di mana kerugian dicatat tanpa adanya pendapatan yang jelas, karena kondisi ini secara logis mustahil dan mengindikasikan error pencatatan yang parah\n",
        "\n",
        "    Metode yang digunakan: Type Casting dan Anomaly Handling (Penghapusan Logis)\n",
        "  "
      ],
      "metadata": {
        "id": "cAx0CpvWAs3C"
      }
    },
    {
      "cell_type": "code",
      "source": [
        "# A. Koreksi Tipe Data\n",
        "# Mengonversi ID Pesanan menjadi integer.\n",
        "df_clean['ID_Pesanan'] = df_clean['ID_Pesanan'].astype(int)\n",
        "\n",
        "# Mengonversi Tanggal Pesanan ke format datetime.\n",
        "df_clean['Tanggal_Pesanan'] = pd.to_datetime(df_clean['Tanggal_Pesanan'], errors='coerce')\n",
        "\n",
        "# B. Penanganan Inkonsistensi Logis:\n",
        "# Menghapus baris di mana Pendapatan = 0 DAN Keuntungan < 0.\n",
        "df_clean = df_clean[~((df_clean['Pendapatan'] == 0) & (df_clean['Keuntungan'] < 0))]"
      ],
      "metadata": {
        "id": "8kHsKRe3AvT7"
      },
      "execution_count": null,
      "outputs": []
    },
    {
      "cell_type": "markdown",
      "source": [
        "# 6.  Standardisasi Kolom Ukuran"
      ],
      "metadata": {
        "id": "_9i79zY9K_wi"
      }
    },
    {
      "cell_type": "markdown",
      "source": [
        "\n",
        "\n",
        "    Bagian ini fokus pada standardisasi data kategorikal. Nilai numerik yang tidak baku pada kolom Ukuran dikelompokkan ke dalam kategori standar (S, M, L, XL) untuk memastikan konsistensi analisis"
      ],
      "metadata": {
        "id": "0_IzSyRVE6yg"
      }
    },
    {
      "cell_type": "code",
      "source": [
        "# --- STANDARDISASI UKURAN ---\n",
        "\n",
        "# Membuat peta pemetaan dari ukuran non-standar/numerik ke standar (S, M, L, XL)\n",
        "size_mapping = {\n",
        "    # Numerik ke Kategori\n",
        "    '6': 'S', '7': 'S',\n",
        "    '8': 'M', '9': 'M',\n",
        "    '10': 'L', '11': 'L',\n",
        "    '12': 'XL',\n",
        "    # Kategori sudah ada (untuk memastikan)\n",
        "    'M': 'M', 'L': 'L', 'XL': 'XL'\n",
        "}\n",
        "\n",
        "# Mengonversi kolom Ukuran ke string untuk menangani nilai numerik dan teks secara seragam\n",
        "df_clean['Ukuran'] = df_clean['Ukuran'].astype(str)\n",
        "\n",
        "# Menerapkan pemetaan standardisasi ukuran\n",
        "df_clean['Ukuran'] = df_clean['Ukuran'].replace(size_mapping)\n",
        "\n",
        "print(\"\\nStandardisasi kolom 'Ukuran' berhasil diterapkan.\")\n",
        "print(\"Nilai unik akhir di kolom Ukuran:\", df_clean['Ukuran'].unique())"
      ],
      "metadata": {
        "id": "cqGIBKm0EkMb"
      },
      "execution_count": null,
      "outputs": []
    },
    {
      "cell_type": "markdown",
      "source": [
        "# 7.  Ringkasan Akhir dan Penyimpanan Hasi"
      ],
      "metadata": {
        "id": "pHviVXieLJm0"
      }
    },
    {
      "cell_type": "markdown",
      "source": [
        "\n",
        "    Sebagai tahap finalisasi dan penutupan, blok ini memberikan ringkasan status data (perbandingan jumlah baris awal dan akhir) dan menyajikan data yang telah dibersihkan. Selanjutnya, data yang sudah tervalidasi tersebut disimpan ke dalam file CSV baru dan secara otomatis diunduh ke perangkat pengguna.\n",
        "\n",
        "    Metode yang Digunakan: Data Serialization (Serialisasi Data) dan Validation"
      ],
      "metadata": {
        "id": "i5MEz6loA0Zh"
      }
    },
    {
      "cell_type": "code",
      "source": [
        "# Ringkasan Akhir dan Penyimpanan\n",
        "print(f\"Bentuk Awal Data: {df.shape[0]} baris\")\n",
        "print(f\"Bentuk Akhir Data Bersih: {df_clean.shape[0]} baris\")\n",
        "\n",
        "print(\"\\n5 Baris Pertama Data yang Sudah Dibersihkan:\")\n",
        "print(df_clean.head().to_markdown(index=False))\n",
        "\n",
        "# Menyimpan DataFrame yang sudah dibersihkan ke file CSV baru.\n",
        "output_file_name_clean = 'Nike_Penjualan_Dibersihkan_Final.csv'\n",
        "df_clean.to_csv(output_file_name_clean, index=False)\n",
        "\n",
        "# Mengunduh file hasil (fitur Colab).\n",
        "files.download(output_file_name_clean)\n",
        "print(f\"\\nDataset akhir telah disimpan sebagai '{output_file_name_clean}' dan diunduh ke komputer Anda.\")"
      ],
      "metadata": {
        "id": "d6jPlIhjA0nk"
      },
      "execution_count": null,
      "outputs": []
    }
  ]
}